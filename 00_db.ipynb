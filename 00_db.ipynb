{
 "cells": [
  {
   "cell_type": "code",
   "execution_count": null,
   "metadata": {},
   "outputs": [],
   "source": [
    "# default_exp db"
   ]
  },
  {
   "cell_type": "markdown",
   "metadata": {},
   "source": [
    "# db\n",
    "\n",
    "> Test functions for the db110 camera pods."
   ]
  },
  {
   "cell_type": "code",
   "execution_count": null,
   "metadata": {},
   "outputs": [],
   "source": [
    "#hide\n",
    "from nbdev.showdoc import *"
   ]
  },
  {
   "cell_type": "code",
   "execution_count": null,
   "metadata": {},
   "outputs": [],
   "source": [
    "#export\n",
    "import pandas as pd\n",
    "import numpy as np\n",
    "import regex\n",
    "import string\n",
    "#import ipdb\n",
    "from pandas import DataFrame\n",
    "import matplotlib.pyplot as plt\n",
    "import time\n",
    "#from IPython.core.debugger import Tracer; debug_here = Tracer()\n",
    "#use `IPython.core.debugger.Pdb.set_trace()`"
   ]
  },
  {
   "cell_type": "code",
   "execution_count": null,
   "metadata": {},
   "outputs": [],
   "source": [
    "#export\n",
    "def sayHello(to):\n",
    "    'Say hello to anyone'\n",
    "    return f'Hi {to}'"
   ]
  },
  {
   "cell_type": "markdown",
   "metadata": {},
   "source": [
    "Simple test of the say hi function"
   ]
  },
  {
   "cell_type": "code",
   "execution_count": null,
   "metadata": {},
   "outputs": [
    {
     "data": {
      "text/plain": [
       "'Hi Phil'"
      ]
     },
     "execution_count": null,
     "metadata": {},
     "output_type": "execute_result"
    }
   ],
   "source": [
    "sayHello('Phil')"
   ]
  },
  {
   "cell_type": "markdown",
   "metadata": {},
   "source": [
    "I can even write a simple test for it here!"
   ]
  },
  {
   "cell_type": "code",
   "execution_count": null,
   "metadata": {},
   "outputs": [],
   "source": [
    "assert sayHello('Phil')== 'Hi Phil'"
   ]
  },
  {
   "cell_type": "markdown",
   "metadata": {},
   "source": [
    "Here is a simple dataset class:"
   ]
  },
  {
   "cell_type": "code",
   "execution_count": null,
   "metadata": {},
   "outputs": [],
   "source": [
    "#export\n",
    "def getFieldNames(logfile):\n",
    "    nameList = []\n",
    "    fields = []\n",
    "    pattern = r'#\\s\\d*\\s(?P<field>\\w.*)' \n",
    "    fieldsRegex = regex.compile(pattern,flags=regex.IGNORECASE)\n",
    "#    fieldsRegex = regex.compile(pattern)\n",
    "      \n",
    "    fh = open(logfile,'r')\n",
    "    lines = fh.readlines()\n",
    "    for line in lines:\n",
    "        m = fieldsRegex.search(line)\n",
    "        if m:\n",
    "            field = m.group('field')\n",
    "            field = field.replace(' ','_')\n",
    "            field = field.replace(':','.')\n",
    "            field = field.replace('.','_')\n",
    "            nameList.append(field)\n",
    "        else:\n",
    "            pass\n",
    "    fh.close()\n",
    "    fieldNames = nameList\n",
    "        \n",
    "    # need a dictionary?\n",
    "    #fieldNames = dict.fromkeys(nameList)\n",
    "    \n",
    "    return fieldNames"
   ]
  },
  {
   "cell_type": "code",
   "execution_count": null,
   "metadata": {},
   "outputs": [],
   "source": [
    "#export\n",
    "class dataset():\n",
    "    \"\"\" DB110 Data Struct Class containing Data, SensorID, Logfile, Comments\n",
    "        Instantiate with log file name and sensor id:\n",
    "        obj = DB110_DATASET('logfile', 01)\n",
    "        @log - logfile\n",
    "        @sensor - optional sensor id from dataset\n",
    "        \n",
    "        Class contains these attributes:\n",
    "            sensorid\n",
    "            logfile\n",
    "            cols - shortened field names for plots\n",
    "            fieldnames - full field name\n",
    "            data - pandas dataframe \n",
    "            comments - any pertinent comments on the data\n",
    "    \"\"\"\n",
    "    #constructor\n",
    "    def __init__(self,log, sensor = []):\n",
    "        self.sensorid = sensor\n",
    "        self.logfile = log\n",
    "\n",
    "        #self.names=getfieldnames(self.logfile) \n",
    "        fieldnames=getFieldNames(self.logfile) \n",
    "        #self.fieldnames = fieldnames[2:] \n",
    "        self.fieldnames = fieldnames \n",
    "        self.data = pd.read_table(self.logfile,comment = '#',names=self.fieldnames, delim_whitespace=True,skiprows=len(self.fieldnames)+9,index_col = 0)\n",
    "        self.data.drop('Absolute_sample_number',1,inplace=True)\n",
    "        self.comments = ''\n"
   ]
  },
  {
   "cell_type": "markdown",
   "metadata": {},
   "source": [
    "Test for a dataset class"
   ]
  },
  {
   "cell_type": "code",
   "execution_count": null,
   "metadata": {},
   "outputs": [
    {
     "data": {
      "text/html": [
       "<div>\n",
       "<style scoped>\n",
       "    .dataframe tbody tr th:only-of-type {\n",
       "        vertical-align: middle;\n",
       "    }\n",
       "\n",
       "    .dataframe tbody tr th {\n",
       "        vertical-align: top;\n",
       "    }\n",
       "\n",
       "    .dataframe thead th {\n",
       "        text-align: right;\n",
       "    }\n",
       "</style>\n",
       "<table border=\"1\" class=\"dataframe\">\n",
       "  <thead>\n",
       "    <tr style=\"text-align: right;\">\n",
       "      <th></th>\n",
       "      <th>pitchGimbal_run_curMode</th>\n",
       "      <th>pitchGimbal_run_curPosition</th>\n",
       "      <th>pitchGimbal_run_setPosition</th>\n",
       "      <th>pitchGimbal_run_errPosition</th>\n",
       "      <th>pitchGimbal_run_curVelocity</th>\n",
       "      <th>pitchGimbal_run_velError</th>\n",
       "      <th>pitchGimbal_run_setVelocity</th>\n",
       "      <th>pitchGimbal_run_errVelocity</th>\n",
       "      <th>pitchGimbal_run_curCommand</th>\n",
       "    </tr>\n",
       "    <tr>\n",
       "      <th>row_number</th>\n",
       "      <th></th>\n",
       "      <th></th>\n",
       "      <th></th>\n",
       "      <th></th>\n",
       "      <th></th>\n",
       "      <th></th>\n",
       "      <th></th>\n",
       "      <th></th>\n",
       "      <th></th>\n",
       "    </tr>\n",
       "  </thead>\n",
       "  <tbody>\n",
       "    <tr>\n",
       "      <th>0</th>\n",
       "      <td>1.0</td>\n",
       "      <td>-0.100007</td>\n",
       "      <td>-0.100007</td>\n",
       "      <td>0.0</td>\n",
       "      <td>-0.000087</td>\n",
       "      <td>0.0</td>\n",
       "      <td>0.0</td>\n",
       "      <td>0.000087</td>\n",
       "      <td>-0.546481</td>\n",
       "    </tr>\n",
       "    <tr>\n",
       "      <th>1</th>\n",
       "      <td>1.0</td>\n",
       "      <td>-0.100007</td>\n",
       "      <td>-0.100007</td>\n",
       "      <td>0.0</td>\n",
       "      <td>0.000070</td>\n",
       "      <td>0.0</td>\n",
       "      <td>0.0</td>\n",
       "      <td>-0.000070</td>\n",
       "      <td>-0.578964</td>\n",
       "    </tr>\n",
       "    <tr>\n",
       "      <th>2</th>\n",
       "      <td>1.0</td>\n",
       "      <td>-0.100007</td>\n",
       "      <td>-0.100007</td>\n",
       "      <td>0.0</td>\n",
       "      <td>0.000118</td>\n",
       "      <td>0.0</td>\n",
       "      <td>0.0</td>\n",
       "      <td>-0.000118</td>\n",
       "      <td>-0.575577</td>\n",
       "    </tr>\n",
       "    <tr>\n",
       "      <th>3</th>\n",
       "      <td>1.0</td>\n",
       "      <td>-0.100007</td>\n",
       "      <td>-0.100007</td>\n",
       "      <td>0.0</td>\n",
       "      <td>0.000125</td>\n",
       "      <td>0.0</td>\n",
       "      <td>0.0</td>\n",
       "      <td>-0.000125</td>\n",
       "      <td>-0.544943</td>\n",
       "    </tr>\n",
       "    <tr>\n",
       "      <th>4</th>\n",
       "      <td>1.0</td>\n",
       "      <td>-0.100007</td>\n",
       "      <td>-0.100007</td>\n",
       "      <td>0.0</td>\n",
       "      <td>0.000200</td>\n",
       "      <td>0.0</td>\n",
       "      <td>0.0</td>\n",
       "      <td>-0.000200</td>\n",
       "      <td>-0.553823</td>\n",
       "    </tr>\n",
       "    <tr>\n",
       "      <th>...</th>\n",
       "      <td>...</td>\n",
       "      <td>...</td>\n",
       "      <td>...</td>\n",
       "      <td>...</td>\n",
       "      <td>...</td>\n",
       "      <td>...</td>\n",
       "      <td>...</td>\n",
       "      <td>...</td>\n",
       "      <td>...</td>\n",
       "    </tr>\n",
       "    <tr>\n",
       "      <th>29995</th>\n",
       "      <td>1.0</td>\n",
       "      <td>0.000359</td>\n",
       "      <td>0.000359</td>\n",
       "      <td>0.0</td>\n",
       "      <td>-0.000005</td>\n",
       "      <td>0.0</td>\n",
       "      <td>0.0</td>\n",
       "      <td>0.000005</td>\n",
       "      <td>0.216525</td>\n",
       "    </tr>\n",
       "    <tr>\n",
       "      <th>29996</th>\n",
       "      <td>1.0</td>\n",
       "      <td>0.000359</td>\n",
       "      <td>0.000359</td>\n",
       "      <td>0.0</td>\n",
       "      <td>-0.000121</td>\n",
       "      <td>0.0</td>\n",
       "      <td>0.0</td>\n",
       "      <td>0.000121</td>\n",
       "      <td>0.234029</td>\n",
       "    </tr>\n",
       "    <tr>\n",
       "      <th>29997</th>\n",
       "      <td>1.0</td>\n",
       "      <td>0.000359</td>\n",
       "      <td>0.000359</td>\n",
       "      <td>0.0</td>\n",
       "      <td>-0.000223</td>\n",
       "      <td>0.0</td>\n",
       "      <td>0.0</td>\n",
       "      <td>0.000223</td>\n",
       "      <td>0.246693</td>\n",
       "    </tr>\n",
       "    <tr>\n",
       "      <th>29998</th>\n",
       "      <td>1.0</td>\n",
       "      <td>0.000359</td>\n",
       "      <td>0.000359</td>\n",
       "      <td>0.0</td>\n",
       "      <td>-0.000236</td>\n",
       "      <td>0.0</td>\n",
       "      <td>0.0</td>\n",
       "      <td>0.000236</td>\n",
       "      <td>0.248141</td>\n",
       "    </tr>\n",
       "    <tr>\n",
       "      <th>29999</th>\n",
       "      <td>1.0</td>\n",
       "      <td>0.000359</td>\n",
       "      <td>0.000359</td>\n",
       "      <td>0.0</td>\n",
       "      <td>-0.000223</td>\n",
       "      <td>0.0</td>\n",
       "      <td>0.0</td>\n",
       "      <td>0.000223</td>\n",
       "      <td>0.245082</td>\n",
       "    </tr>\n",
       "  </tbody>\n",
       "</table>\n",
       "<p>30000 rows × 9 columns</p>\n",
       "</div>"
      ],
      "text/plain": [
       "            pitchGimbal_run_curMode  pitchGimbal_run_curPosition  \\\n",
       "row_number                                                         \n",
       "0                               1.0                    -0.100007   \n",
       "1                               1.0                    -0.100007   \n",
       "2                               1.0                    -0.100007   \n",
       "3                               1.0                    -0.100007   \n",
       "4                               1.0                    -0.100007   \n",
       "...                             ...                          ...   \n",
       "29995                           1.0                     0.000359   \n",
       "29996                           1.0                     0.000359   \n",
       "29997                           1.0                     0.000359   \n",
       "29998                           1.0                     0.000359   \n",
       "29999                           1.0                     0.000359   \n",
       "\n",
       "            pitchGimbal_run_setPosition  pitchGimbal_run_errPosition  \\\n",
       "row_number                                                             \n",
       "0                             -0.100007                          0.0   \n",
       "1                             -0.100007                          0.0   \n",
       "2                             -0.100007                          0.0   \n",
       "3                             -0.100007                          0.0   \n",
       "4                             -0.100007                          0.0   \n",
       "...                                 ...                          ...   \n",
       "29995                          0.000359                          0.0   \n",
       "29996                          0.000359                          0.0   \n",
       "29997                          0.000359                          0.0   \n",
       "29998                          0.000359                          0.0   \n",
       "29999                          0.000359                          0.0   \n",
       "\n",
       "            pitchGimbal_run_curVelocity  pitchGimbal_run_velError  \\\n",
       "row_number                                                          \n",
       "0                             -0.000087                       0.0   \n",
       "1                              0.000070                       0.0   \n",
       "2                              0.000118                       0.0   \n",
       "3                              0.000125                       0.0   \n",
       "4                              0.000200                       0.0   \n",
       "...                                 ...                       ...   \n",
       "29995                         -0.000005                       0.0   \n",
       "29996                         -0.000121                       0.0   \n",
       "29997                         -0.000223                       0.0   \n",
       "29998                         -0.000236                       0.0   \n",
       "29999                         -0.000223                       0.0   \n",
       "\n",
       "            pitchGimbal_run_setVelocity  pitchGimbal_run_errVelocity  \\\n",
       "row_number                                                             \n",
       "0                                   0.0                     0.000087   \n",
       "1                                   0.0                    -0.000070   \n",
       "2                                   0.0                    -0.000118   \n",
       "3                                   0.0                    -0.000125   \n",
       "4                                   0.0                    -0.000200   \n",
       "...                                 ...                          ...   \n",
       "29995                               0.0                     0.000005   \n",
       "29996                               0.0                     0.000121   \n",
       "29997                               0.0                     0.000223   \n",
       "29998                               0.0                     0.000236   \n",
       "29999                               0.0                     0.000223   \n",
       "\n",
       "            pitchGimbal_run_curCommand  \n",
       "row_number                              \n",
       "0                            -0.546481  \n",
       "1                            -0.578964  \n",
       "2                            -0.575577  \n",
       "3                            -0.544943  \n",
       "4                            -0.553823  \n",
       "...                                ...  \n",
       "29995                         0.216525  \n",
       "29996                         0.234029  \n",
       "29997                         0.246693  \n",
       "29998                         0.248141  \n",
       "29999                         0.245082  \n",
       "\n",
       "[30000 rows x 9 columns]"
      ]
     },
     "execution_count": null,
     "metadata": {},
     "output_type": "execute_result"
    }
   ],
   "source": [
    "ds = dataset('PitchT3.log',27)\n",
    "ds.logfile\n",
    "ds.data"
   ]
  },
  {
   "cell_type": "code",
   "execution_count": null,
   "metadata": {},
   "outputs": [],
   "source": [
    "#export\n",
    "def add2(x):\n",
    "    return x+2"
   ]
  },
  {
   "cell_type": "markdown",
   "metadata": {},
   "source": [
    "Test of add2"
   ]
  },
  {
   "cell_type": "code",
   "execution_count": null,
   "metadata": {},
   "outputs": [
    {
     "name": "stdout",
     "output_type": "stream",
     "text": [
      "7\n"
     ]
    }
   ],
   "source": [
    "t = add2(5)\n",
    "print(t)"
   ]
  },
  {
   "cell_type": "code",
   "execution_count": null,
   "metadata": {},
   "outputs": [],
   "source": [
    "assert add2(5) == 7"
   ]
  },
  {
   "cell_type": "code",
   "execution_count": null,
   "metadata": {},
   "outputs": [],
   "source": []
  }
 ],
 "metadata": {
  "kernelspec": {
   "display_name": "Python [conda env:root] *",
   "language": "python",
   "name": "conda-root-py"
  }
 },
 "nbformat": 4,
 "nbformat_minor": 4
}
