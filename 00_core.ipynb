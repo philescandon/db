{
 "cells": [
  {
   "cell_type": "code",
   "execution_count": null,
   "metadata": {},
   "outputs": [],
   "source": [
    "# default_exp core"
   ]
  },
  {
   "cell_type": "markdown",
   "metadata": {},
   "source": [
    "# db\n",
    "\n",
    "> Test functions for the db110 camera pods."
   ]
  },
  {
   "cell_type": "code",
   "execution_count": null,
   "metadata": {},
   "outputs": [],
   "source": [
    "#hide\n",
    "from nbdev.showdoc import *\n",
    "\n",
    "import pandas as pd\n",
    "import numpy as np\n",
    "import re\n",
    "import string\n",
    "#import ipdb\n",
    "from pandas import DataFrame\n",
    "import matplotlib.pyplot as plt\n",
    "import time\n",
    "#from IPython.core.debugger import Tracer; debug_here = Tracer()\n",
    "#use `IPython.core.debugger.Pdb.set_trace()`"
   ]
  },
  {
   "cell_type": "code",
   "execution_count": null,
   "metadata": {},
   "outputs": [],
   "source": [
    "#export\n",
    "def sayHello(to):\n",
    "    'Say hello to anyone'\n",
    "    return f'Hello {to}'"
   ]
  },
  {
   "cell_type": "code",
   "execution_count": null,
   "metadata": {},
   "outputs": [
    {
     "data": {
      "text/plain": [
       "'Hello Phil'"
      ]
     },
     "execution_count": null,
     "metadata": {},
     "output_type": "execute_result"
    }
   ],
   "source": [
    "sayHello('Phil')"
   ]
  },
  {
   "cell_type": "code",
   "execution_count": null,
   "metadata": {},
   "outputs": [],
   "source": [
    "assert sayHello('Phil')== 'Hello Phil'"
   ]
  },
  {
   "cell_type": "code",
   "execution_count": null,
   "metadata": {},
   "outputs": [],
   "source": [
    "#export\n",
    "class dataset():\n",
    "    \"\"\" DB110 Data Struct Class containing Data, SensorID, Logfile, Comments\n",
    "        Instantiate with log file name and sensor id:\n",
    "        obj = DB110_DATASET('logfile', 01)\n",
    "        @log - logfile\n",
    "        @sensor - optional sensor id from dataset\n",
    "        \n",
    "        Class contains these attributes:\n",
    "            sensorid\n",
    "            logfile\n",
    "            cols - shortened field names for plots\n",
    "            fieldnames - full field name\n",
    "            data - pandas dataframe \n",
    "            comments - any pertinent comments on the data\n",
    "            \n",
    "        \n",
    "    \"\"\"\n",
    "    #constructor\n",
    "    def __init__(self,log, sensor = []):\n",
    "        self.sensorid = sensor\n",
    "        self.logfile = log\n",
    "\n",
    "        #self.names=getfieldnames(self.logfile) \n",
    "        fieldnames=getFieldNames(self.logfile) \n",
    "        #self.fieldnames = fieldnames[2:] \n",
    "        self.fieldnames = fieldnames \n",
    "        self.data = pd.read_table(self.logfile,comment = '#',names=self.fieldnames, delim_whitespace=True,skiprows=len(self.fieldnames)+9,index_col = 0)\n",
    "        self.data.drop('Absolute_sample_number',1,inplace=True)\n",
    "          \n",
    "        \n",
    "      \n",
    "        self.comments = ''\n"
   ]
  },
  {
   "cell_type": "code",
   "execution_count": null,
   "metadata": {},
   "outputs": [],
   "source": [
    "#export\n",
    "def getFieldNames(logfile):\n",
    "    nameList = []\n",
    "    fields = []\n",
    "    pattern = r'#\\s\\d*\\s(?P<field>\\w.*)' \n",
    "    fieldsRegex = re.compile(pattern,flags=re.IGNORECASE)\n",
    "    fh = open(logfile,'r')\n",
    "    lines = fh.readlines(1)\n",
    "    for line in lines:\n",
    "        m = fieldsRegex.search(line)\n",
    "        if m:\n",
    "            field = m.group('field')\n",
    "            field = field.replace(' ','_')\n",
    "            field = field.replace(':','.')\n",
    "            field = field.replace('.','_')\n",
    "            nameList.append(field)\n",
    "        else:\n",
    "            pass\n",
    "    fh.close()\n",
    "    fieldNames = nameList\n",
    "        \n",
    "    # need a dictionary?\n",
    "    #fieldNames = dict.fromkeys(nameList)\n",
    "    \n",
    "    return fieldNames"
   ]
  },
  {
   "cell_type": "code",
   "execution_count": null,
   "metadata": {},
   "outputs": [],
   "source": []
  }
 ],
 "metadata": {
  "kernelspec": {
   "display_name": "Python 3",
   "language": "python",
   "name": "python3"
  }
 },
 "nbformat": 4,
 "nbformat_minor": 2
}
